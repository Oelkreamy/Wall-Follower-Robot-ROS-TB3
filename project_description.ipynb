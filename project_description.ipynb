{
 "cells": [
  {
   "cell_type": "markdown",
   "metadata": {},
   "source": [
    "<div class=\"jumbotron m-0\">\n",
    "    <hr />\n",
    "    <h1 class=\"text-center\">\n",
    "        <span class=\"text-primary\">ROS Basics in 5 Days: Course Project</span>\n",
    "    </h1>\n",
    "    <hr />\n",
    "</div>"
   ]
  },
  {
   "cell_type": "markdown",
   "metadata": {},
   "source": [
    "<div class=\"bg-primary text-center\">\n",
    "    - Summary -\n",
    "</div>"
   ]
  },
  {
   "cell_type": "markdown",
   "metadata": {},
   "source": [
    "**In this rosject, you will have to apply all that you have learned throughout the ROS Basics course to a real robot.**\n",
    "\n",
    "- You will practice with a simulation and a real robot.\n",
    "- The real robot is a TurtleBot3, which is running in Barcelona, Spain. You will connect remotely to it and practice on it."
   ]
  },
  {
   "cell_type": "markdown",
   "metadata": {},
   "source": [
    "<div class=\"bg-primary text-center\">\n",
    "    - End of Summary -\n",
    "</div>"
   ]
  },
  {
   "cell_type": "markdown",
   "metadata": {},
   "source": [
    "<div>\n",
    "    <h1 class=\"text-center\">\n",
    "        <span class=\"text-primary\">Section 0</span>\n",
    "        &nbsp;\n",
    "        <span class=\"\">How to proceed</span>\n",
    "    </h1>\n",
    "</div>"
   ]
  },
  {
   "cell_type": "markdown",
   "metadata": {},
   "source": [
    "<div>\n",
    "    <h1 class=\"text-center\">\n",
    "        <span class=\"text-primary\"></span>\n",
    "        &nbsp;\n",
    "        <span class=\"\">The rosject environment</span>\n",
    "    </h1>\n",
    "</div>"
   ]
  },
  {
   "cell_type": "markdown",
   "metadata": {},
   "source": [
    "If this is the first time you've used a rosject, then it might seem a little confusing at first. Don't worry, you'll get the hang of it. Rosjects give you more freedom when you are developing your programs, and allow you to launch more than one simulation and unlimited terminals. It also allows you to connect to real robots. This is what each button from the bottom menu bar represents:"
   ]
  },
  {
   "cell_type": "markdown",
   "metadata": {},
   "source": [
    "* Terminals"
   ]
  },
  {
   "cell_type": "markdown",
   "metadata": {},
   "source": [
    "<img src=\"realrobotlab_notebooks/term.png\" align=\"left\" width=\"50\"/>"
   ]
  },
  {
   "cell_type": "markdown",
   "metadata": {},
   "source": [
    "This is where you will do most of the work, looking for topics, running commands and checking nodes are just a few things. It is the main interface with the linux based virtual machine running behind this rosject."
   ]
  },
  {
   "cell_type": "markdown",
   "metadata": {},
   "source": [
    "* IDE"
   ]
  },
  {
   "cell_type": "markdown",
   "metadata": {},
   "source": [
    "<img src=\"realrobotlab_notebooks/IDE_icon.png\" align=\"left\" width=\"50\"/>"
   ]
  },
  {
   "cell_type": "markdown",
   "metadata": {},
   "source": [
    "The code editor. Very similar to Visual Studio Code. You will write your programs here, and you can also see the folder organization of the rosject. It is worth taking a minute here to identify the most important worskpaces where you will be working and the ones you don't need to pay attention:\n",
    "* `catkin_ws`: The main workspace. ALL of your work will be in here, inside the `src` directory\n",
    "* `simulation_ws`: The workspace where all of the code relating to the simulation is. You do not need to work in here, in fact you can forget about it\n",
    "* `notebook_ws`: The workspace where the notebook and associated images are stored. You do not need to work in here, in fact you can forget about it\n"
   ]
  },
  {
   "cell_type": "markdown",
   "metadata": {},
   "source": [
    "* Notebook"
   ]
  },
  {
   "cell_type": "markdown",
   "metadata": {},
   "source": [
    "<img src=\"realrobotlab_notebooks/notebook_icon.png\" align=\"left\" width=\"50\"/>"
   ]
  },
  {
   "cell_type": "markdown",
   "metadata": {},
   "source": [
    "Opens the default notebook for the rosject. In this case, it's the one you are reading now."
   ]
  },
  {
   "cell_type": "markdown",
   "metadata": {},
   "source": [
    "* Simulation"
   ]
  },
  {
   "cell_type": "markdown",
   "metadata": {},
   "source": [
    "<img src=\"realrobotlab_notebooks/robotarm/gazebo_icon.png\" align=\"left\" width=\"50\"/>"
   ]
  },
  {
   "cell_type": "markdown",
   "metadata": {},
   "source": [
    "Opens the simulation **if a simulation has been launched from a terminal**. You can also select template simulations, but stick to the project simulation in here."
   ]
  },
  {
   "cell_type": "markdown",
   "metadata": {},
   "source": [
    "* Graphical tools"
   ]
  },
  {
   "cell_type": "markdown",
   "metadata": {},
   "source": [
    "<img src=\"realrobotlab_notebooks/robotarm/grphical_tools_ico.png\" align=\"left\" width=\"50\"/>"
   ]
  },
  {
   "cell_type": "markdown",
   "metadata": {},
   "source": [
    "Opens `rviz` **if rviz has been launched from a terminal**. You will also see any other GUI applications in here, like `rqt`."
   ]
  },
  {
   "cell_type": "markdown",
   "metadata": {},
   "source": [
    "* Robot booking"
   ]
  },
  {
   "cell_type": "markdown",
   "metadata": {},
   "source": [
    "<img src=\"realrobotlab_notebooks/robot_booking_icon.png\" align=\"left\" width=\"50\"/>"
   ]
  },
  {
   "cell_type": "markdown",
   "metadata": {},
   "source": [
    "Connects to the real robot lab **if you have a booking at that moment**. To learn how to book the real robot, go to the Appendix of this notebook."
   ]
  },
  {
   "cell_type": "markdown",
   "metadata": {},
   "source": [
    "* Course notebooks"
   ]
  },
  {
   "cell_type": "markdown",
   "metadata": {},
   "source": [
    "<img src=\"realrobotlab_notebooks/course_notebooks_icon.png\" align=\"left\" width=\"50\"/>"
   ]
  },
  {
   "cell_type": "markdown",
   "metadata": {},
   "source": [
    "Opens any notebook from all of our courses. Very useful if you want to quickly check something from the course without having to open it."
   ]
  },
  {
   "cell_type": "markdown",
   "metadata": {},
   "source": [
    "* Connect your OWN robot"
   ]
  },
  {
   "cell_type": "markdown",
   "metadata": {},
   "source": [
    "<img src=\"realrobotlab_notebooks/robot_connect_icon.png\" align=\"left\" width=\"50\"/>"
   ]
  },
  {
   "cell_type": "markdown",
   "metadata": {},
   "source": [
    "Allows you to configure and connect to your own robot. If you want to learn how to do it, check out this video: \n",
    "https://www.youtube.com/watch?v=W4LfASoP-ak"
   ]
  },
  {
   "cell_type": "markdown",
   "metadata": {},
   "source": [
    "<div>\n",
    "    <h1 class=\"text-center\">\n",
    "        <span class=\"text-primary\"></span>\n",
    "        &nbsp;\n",
    "        <span class=\"\">The project</span>\n",
    "    </h1>\n",
    "</div>"
   ]
  },
  {
   "cell_type": "markdown",
   "metadata": {},
   "source": [
    "This rosject is composed of three parts. You should do each part when the **ROS Basics in 5 Days** course indicates. \n",
    "\n",
    "* **SECTION 1**: practice about topic publishers and subscribers\n",
    "* **SECTION 2**: practice about services\n",
    "* **SECTION 3**: practice about actions\n",
    "\n",
    "Go to the part that the course indicates to you and try to finish it. But before doing that, **launch the simulation** of the project. You will use the simulation to practice with the simulated environment."
   ]
  },
  {
   "cell_type": "markdown",
   "metadata": {},
   "source": [
    "<h1 align=\"center\";> </h1>\n",
    "<div>\n",
    "    <h1 class=\"text-center\">\n",
    "        <span class=\"text-primary\">0.1</span>\n",
    "        &nbsp;\n",
    "        <span class=\"\">Launching a simulation</span>\n",
    "    </h1>\n",
    "</div>"
   ]
  },
  {
   "cell_type": "markdown",
   "metadata": {},
   "source": [
    "Before working on your code, you need a simulation (or an actual robot) to be running. During the course, you saw the simulation running in the top right corner. In there, the simulation launch is done automatically.\n",
    "\n",
    "In here, our development environment that we call rosjects, you will have to launch the simulation in order to start working. This allows you to have more freedom while developing and you can even create your own simulations! \n",
    "\n",
    "For now though, let's focus on launching the simulation we will need for the project:"
   ]
  },
  {
   "cell_type": "markdown",
   "metadata": {},
   "source": [
    "1. Open a terminal by pressing on the *terminal icon* at the bottom left croner of your screen.\n",
    "\n",
    "2. On the opened terminal, type the following ROS command that launches the simulation"
   ]
  },
  {
   "cell_type": "markdown",
   "metadata": {},
   "source": [
    "<span class=\"badge badge-pill badge-primary\">\n",
    "    <i class=\"fa fa-play\"></i>\n",
    "    &nbsp;\n",
    "    Execute in Terminal #1\n",
    "</span>"
   ]
  },
  {
   "cell_type": "code",
   "execution_count": null,
   "metadata": {},
   "outputs": [],
   "source": [
    "roslaunch realrobotlab main.launch"
   ]
  },
  {
   "cell_type": "markdown",
   "metadata": {},
   "source": [
    "The simulation window should appear after a while automatically. If it doesn't, don't worry, you can just d select *Open Gazebo*\n",
    "\n",
    "<img src=\"realrobotlab_notebooks/gazebo.png\"/>\n",
    "\n",
    "**Wait around 30 seconds at the most** for the simulation to start and the simulation should appear in the Gazebo window.\n",
    "\n",
    "You will need to get comfortable launching and killing (by pressing Ctrl+C) the simulation as you will probably be doing it a thousand times in your robotics career.\n",
    "\n",
    "To check if the simulation is working, go to another terminal and check the topics available:"
   ]
  },
  {
   "cell_type": "markdown",
   "metadata": {},
   "source": [
    "<span class=\"badge badge-pill badge-primary\">\n",
    "    <i class=\"fa fa-play\"></i>\n",
    "    &nbsp;\n",
    "    Execute in Terminal #2\n",
    "</span>"
   ]
  },
  {
   "cell_type": "code",
   "execution_count": null,
   "metadata": {},
   "outputs": [],
   "source": [
    "rostopic list"
   ]
  },
  {
   "cell_type": "markdown",
   "metadata": {},
   "source": [
    "If the simulation is launched and working correctly, you should see some topics available. This means that Gazebo is providing you with data from this simulated world, like the information from the robot's lidar and the topic you can use to move the robot around.\n",
    "\n",
    "Look at the topics and think, what information provided by the simulation will be useful to me?"
   ]
  },
  {
   "cell_type": "markdown",
   "metadata": {},
   "source": [
    "<div>\n",
    "    <h1 class=\"text-center\">\n",
    "        <span class=\"text-primary\">Section 1</span>\n",
    "        &nbsp;\n",
    "        <span class=\"\">Topics</span>\n",
    "    </h1>\n",
    "</div>"
   ]
  },
  {
   "cell_type": "markdown",
   "metadata": {},
   "source": [
    "Now that you know how to launch a simulation, we can get started with the project. In this part, you are going to practice how to use topics to control a robot. Your goal is to create a ROS program that makes the robot have a wall following behavior."
   ]
  },
  {
   "cell_type": "markdown",
   "metadata": {},
   "source": [
    "<h1 align=\"center\";> </h1>\n",
    "<div>\n",
    "    <h1 class=\"text-center\">\n",
    "        <span class=\"text-primary\">1.1</span>\n",
    "        &nbsp;\n",
    "        <span class=\"\">Wall following behavior</span>\n",
    "    </h1>\n",
    "</div>"
   ]
  },
  {
   "cell_type": "markdown",
   "metadata": {},
   "source": [
    "**You will be writing nodes inside of packages, so make sure you review how to create an executable python file inside of a catkin package. This is explained in the course, and you can check it in the course notebooks icon in the bottom menu bar.**"
   ]
  },
  {
   "cell_type": "markdown",
   "metadata": {},
   "source": [
    "The wall following behavior is a behavior that makes the robot **follow along the wall on its right hand side**. This means that the robot must be moving forward at a 30cm distance from the wall, having the wall on its right hand side, the entire time.\n",
    "\n",
    "To achieve this behavior in the robot, you need to do two things:\n",
    "\n",
    "1. **Subscribe to the laser topic of the robot**\n",
    "\n",
    "    You need to subscribe to the laser topic and capture the rays. Select the ray on the right (the one that makes a 90º angle to the right with the front of the robot) and use it to measure the robot's distance to the wall.\n",
    "    \n",
    "    **NOTE:** The topics for different simulations most likely will not be named the same. So make sure that you are using the correct name. For example, you used `/kobuki/laser/scan` during the course. The laser topic in this simulation is `/scan`\n",
    "    \n",
    "    \n",
    "2. **Publish to the velocity topic of the robot**\n",
    "    \n",
    "    * If the ray distance is **bigger than 0.3m**, you need to make the robot approach the wall a little, by adding some rotational speed to the robot\n",
    "    * If the ray distance is **smaller than 0.2m**, you need to move the robot away from the wall, by adding rotational speed in the opposite direction\n",
    "    * If the ray distance is **between 0.2m and 0.3m**, just keep the robot moving forward\n",
    "    \n",
    "    **IMPORTANT**\n",
    "\n",
    "    When the robot is moving along a wall, it can reach the next wall crossing its way. At that point in time, you should include a behavior that progressively transitions the robot from following the current wall to the next one.\n",
    "\n",
    "    For that, we recommend that you use the front laser ray. If the distance measured by that ray is shorter than 0.5m, then make the robot turn fast to the left (moving forward at the same time).\n",
    "\n",
    "    The result of this behavior must be that the robot moves along the whole environment (see video below)."
   ]
  },
  {
   "cell_type": "markdown",
   "metadata": {},
   "source": [
    "<img src=\"realrobotlab_notebooks/wall_follow_long.gif\"/>"
   ]
  },
  {
   "cell_type": "markdown",
   "metadata": {},
   "source": [
    "### Hint: How to properly interpret laser scan data"
   ]
  },
  {
   "cell_type": "markdown",
   "metadata": {},
   "source": [
    "Laser Scanner devices come from a wide range of vendors with a variety of features, configurations and pricing options from which to choose from. \n",
    "In ROS, the sensor_msgs/LaserScan message is the standard message type used by most ROS applications to publish and read laser scan data, irrespective of the device that is producing the information. In order for the sensor_msgs/LaserScan message to work with the very large variety of devices that exists, it includes important parameters that you need to be aware of to correctly interpret the data.\n",
    "\n",
    "The laser scan message has the following standard format:\n",
    "\n",
    "```\n",
    "std_msgs/Header header\n",
    "  uint32 seq\n",
    "  time stamp\n",
    "  string frame_id\n",
    "float32 angle_min\n",
    "float32 angle_max\n",
    "float32 angle_increment\n",
    "float32 time_increment\n",
    "float32 scan_time\n",
    "float32 range_min\n",
    "float32 range_max\n",
    "float32[] ranges\n",
    "float32[] intensities\n",
    "```\n",
    "\n",
    "Some values that you might require for interpreting the data can be accessed directly:   \n",
    "\n",
    "- **angle_min** and **angle_max**: indicate the angle range in radian that the LaserScan is measuring, with the zero angle forward along the x axis. \n",
    "- **ranges**: contains the measurement values for each laser beam in meters.\n",
    "- **angle_increment**: the angular distance/separation between two consecutive laser beams.\n",
    "\n",
    "Other values have to be accessed indirectly or calculated, for instance:\n",
    "\n",
    "- The total number of laser beams/points that the device can measure can be obtained by retrieving the lenght of the **ranges** array.\n",
    "\n",
    "- The distance and angle of an obstacle with respect to the laser scanner device must be calculated using the fields **angle_min** and **angle_increment**, like this: `ray_angle = angle_min + (i * angle_increment)`, where `i` is the index value of one particular laser beam inside the **ranges** array.  \n",
    "\n",
    "\n",
    "Additional resources:\n",
    "\n",
    "- [ROS Q&A 031 - How to read LaserScan data](https://www.youtube.com/watch?v=RFNNsDI2b6c)\n",
    "- [ROS Q&A 174 - How to extract the middle data from LaserScan ranges](https://www.youtube.com/watch?v=RcHgpHPR8uE)"
   ]
  },
  {
   "cell_type": "markdown",
   "metadata": {},
   "source": [
    "<h1 align=\"center\";> </h1>\n",
    "<div>\n",
    "    <h1 class=\"text-center\">\n",
    "        <span class=\"text-primary\">1.2</span>\n",
    "        &nbsp;\n",
    "        <span class=\"\">Test your program in the simulation</span>\n",
    "    </h1>\n",
    "</div>"
   ]
  },
  {
   "cell_type": "markdown",
   "metadata": {},
   "source": [
    "Create the wall following program and test it on the simulation. If it doesn't work on the simulation, you cannot try it on the real robot. \n",
    "\n",
    "**If the program doesn't work on the simulation, it is 100% not going to work on the real robot.**\n",
    "\n",
    "Real life robot development works this way: first try it on a simulation. When it works there, then you try it on the real one. Never the other way around.\n",
    "\n",
    "To test on the simulation:\n",
    "\n",
    "1. Make sure the simulation is launched as explained in Section 0\n",
    "2. On another terminal, launch the keyboard teleop with the following command:"
   ]
  },
  {
   "cell_type": "markdown",
   "metadata": {},
   "source": [
    "<span class=\"badge badge-pill badge-primary\">\n",
    "    <i class=\"fa fa-play\"></i>\n",
    "    &nbsp;\n",
    "    Execute in Terminal #2\n",
    "</span>"
   ]
  },
  {
   "cell_type": "code",
   "execution_count": null,
   "metadata": {},
   "outputs": [],
   "source": [
    "rosrun teleop_twist_keyboard teleop_twist_keyboard.py"
   ]
  },
  {
   "cell_type": "markdown",
   "metadata": {},
   "source": [
    "3. Now use the keys to move the robot to a convenient position to test your ROS program. This means, close to a wall looking along it. Remember that to be able to move the robot with the keys, **the terminal where you launched the teleop has to have the focus**.\n",
    "\n",
    "**IMPORTANT**: Close this *teleop* program once you have the proper position. Otherwise, it can interfere with your own program when you launch it.\n",
    "\n",
    "4. Now launch your ROS program and see the results. If the robot doesn't behave correctly, debug your program and try to figure out the reason."
   ]
  },
  {
   "cell_type": "markdown",
   "metadata": {},
   "source": [
    "<h1 align=\"center\";> </h1>\n",
    "<div>\n",
    "    <h1 class=\"text-center\">\n",
    "        <span class=\"text-primary\">1.3</span>\n",
    "        &nbsp;\n",
    "        <span class=\"\">If program works in simulation, then go to the real robot</span>\n",
    "    </h1>\n",
    "</div>"
   ]
  },
  {
   "cell_type": "markdown",
   "metadata": {},
   "source": [
    "Once the robot is moving along the walls of the simulated environment, it is time to test it on the real robot.\n",
    "\n",
    "The steps are:\n",
    "1. Book a date and time in the *Real Robot Lab* to test your program (see Appendix below that teaches how to do that).\n",
    "2. On the day and time selected, open this rosject\n",
    "3. Connect to the real robot lab from within this rosject (see Appendix below)\n",
    "4. Use the joystick to move the real robot to the proper position to start when you launch your program.\n",
    "5. Launch your program and see if it works properly. Chances are it will not because a simulation is not an exact copy of the real environment. Now is your time to debug. \n",
    "6. Test on the real robot and debug your errors until you make it work properly"
   ]
  },
  {
   "cell_type": "markdown",
   "metadata": {},
   "source": [
    "<img src=\"realrobotlab_notebooks/realrobot_follow_wall.gif\"/>"
   ]
  },
  {
   "cell_type": "markdown",
   "metadata": {},
   "source": [
    "<div>\n",
    "    <h1 class=\"text-center\">\n",
    "        <span class=\"text-primary\">Section 2</span>\n",
    "        &nbsp;\n",
    "        <span class=\"\">Services</span>\n",
    "    </h1>\n",
    "</div>"
   ]
  },
  {
   "cell_type": "markdown",
   "metadata": {},
   "source": [
    "The goal in this section is to **Create a service server that, when called, makes robot search for the nearest wall.**\n",
    "\n",
    "To accomplish this, you will have to do three things:\n",
    "\n",
    "1. Create a service server that, when called, will make the robot go to the nearest wall\n",
    "2. Modify the program from Section 1 so that it calls the service server **before** starting the wall following behavior\n",
    "3. Create a new launch file to launch both nodes (wall following node and service server)"
   ]
  },
  {
   "cell_type": "markdown",
   "metadata": {},
   "source": [
    "<h1 align=\"center\";> </h1>\n",
    "<div>\n",
    "    <h1 class=\"text-center\">\n",
    "        <span class=\"text-primary\">2.1</span>\n",
    "        &nbsp;\n",
    "        <span class=\"\">Create Service Server</span>\n",
    "    </h1>\n",
    "</div>"
   ]
  },
  {
   "cell_type": "markdown",
   "metadata": {},
   "source": [
    "* Create a new ROS node that contains a service server named `find_wall`. The server uses a `FindWall` message that you must create:"
   ]
  },
  {
   "cell_type": "code",
   "execution_count": null,
   "metadata": {},
   "outputs": [],
   "source": [
    "FindWall.srv\n",
    "\n",
    "---\n",
    "bool wallfound"
   ]
  },
  {
   "cell_type": "markdown",
   "metadata": {},
   "source": [
    "When the service is called, the robot must perform the following behavior:\n",
    "\n",
    "1. Identify which laser ray is the shortest one. Assume that this is the one pointing to a wall.\n",
    "2. Rotate the robot until the front of it is facing the wall. This can be done by publishing an angular velocity until front ray is the smallest one.\n",
    "3. Move the robot forward until the front ray is smaller than 30cm.\n",
    "4. Now rotate the robot again until ray number 270 of the laser ranges is pointing to the wall.\n",
    "5. At this point, consider that the robot is ready to start following the wall.\n",
    "6. Return the service message with `True`."
   ]
  },
  {
   "cell_type": "markdown",
   "metadata": {},
   "source": [
    "<h1 align=\"center\";> </h1>\n",
    "<div>\n",
    "    <h1 class=\"text-center\">\n",
    "        &nbsp;\n",
    "        <span class=\"\">Test Service Server</span>\n",
    "    </h1>\n",
    "</div>"
   ]
  },
  {
   "cell_type": "markdown",
   "metadata": {},
   "source": [
    "1. Run the service server node\n",
    "2. Use the terminal to test the server with a service call command:"
   ]
  },
  {
   "cell_type": "markdown",
   "metadata": {},
   "source": [
    "<span class=\"badge badge-pill badge-primary\">\n",
    "    <i class=\"fa fa-play\"></i>\n",
    "    &nbsp;\n",
    "    Execute in Terminal #2\n",
    "</span>"
   ]
  },
  {
   "cell_type": "code",
   "execution_count": null,
   "metadata": {},
   "outputs": [],
   "source": [
    "rosservice call find_wall"
   ]
  },
  {
   "cell_type": "markdown",
   "metadata": {},
   "source": [
    "If this fails, make sure that the service you created is available with `rosservice list`. If you can't find it, then go back to the server node and debug it until it's available.\n",
    "\n",
    "The service call should make the robot look for a wall:"
   ]
  },
  {
   "cell_type": "markdown",
   "metadata": {},
   "source": [
    "<img src=\"realrobotlab_notebooks/prepare_for_wall_sim.gif\"/>"
   ]
  },
  {
   "cell_type": "markdown",
   "metadata": {},
   "source": [
    "<h1 align=\"center\";> </h1>\n",
    "<div>\n",
    "    <h1 class=\"text-center\">\n",
    "        <span class=\"text-primary\">2.2</span>\n",
    "        &nbsp;\n",
    "        <span class=\"\">Add server call to Section 1 program</span>\n",
    "    </h1>\n",
    "</div>"
   ]
  },
  {
   "cell_type": "markdown",
   "metadata": {},
   "source": [
    "1. Add a service client to the node from Section 1\n",
    "2. Call the service before the control loop of that node, so the robot gets prepared autonomously before starting to follow the wall"
   ]
  },
  {
   "cell_type": "markdown",
   "metadata": {},
   "source": [
    "<h1 align=\"center\";> </h1>\n",
    "<div>\n",
    "    <h1 class=\"text-center\">\n",
    "        &nbsp;\n",
    "        <span class=\"\">Test Service Client</span>\n",
    "    </h1>\n",
    "</div>"
   ]
  },
  {
   "cell_type": "markdown",
   "metadata": {},
   "source": [
    "1. Launch the service server node\n",
    "2. Launch the wall following node\n",
    "\n",
    "This should start the robot movement (first the robot looks for the wall, then it starts to follow it)."
   ]
  },
  {
   "cell_type": "markdown",
   "metadata": {},
   "source": [
    "<h1 align=\"center\";> </h1>\n",
    "<div>\n",
    "    <h1 class=\"text-center\">\n",
    "        <span class=\"text-primary\">2.3</span>\n",
    "        &nbsp;\n",
    "        <span class=\"\">Create new launch file</span>\n",
    "    </h1>\n",
    "</div>"
   ]
  },
  {
   "cell_type": "markdown",
   "metadata": {},
   "source": [
    "1. Create a new launch file named `main.launch` that launches both nodes: first the service server node and then the wall following node.\n",
    "\n",
    "This should start the robot movement (first the robot looks for the wall, then it starts to follow it).\n",
    "\n",
    "**IMPORTANT**: Test everything on the simulation. When it works in the simulation, book a date in the *Real Robot Lab* and make it work there, too. Same as in Section 1."
   ]
  },
  {
   "cell_type": "markdown",
   "metadata": {},
   "source": [
    "<div>\n",
    "    <h1 class=\"text-center\">\n",
    "        <span class=\"text-primary\">Section 3</span>\n",
    "        &nbsp;\n",
    "        <span class=\"\">Actions</span>\n",
    "    </h1>\n",
    "</div>"
   ]
  },
  {
   "cell_type": "markdown",
   "metadata": {},
   "source": [
    "The goal of this section is to **create an action server that records the robot's odometry.**\n",
    "\n",
    "1. Create an action server that, when called, starts recording odometry\n",
    "2. Add a call to the action server from the wall following node\n",
    "3. Include the launch of the action server in `main.launch`"
   ]
  },
  {
   "cell_type": "markdown",
   "metadata": {},
   "source": [
    "<h1 align=\"center\";> </h1>\n",
    "<div>\n",
    "    <h1 class=\"text-center\">\n",
    "        <span class=\"text-primary\">3.1</span>\n",
    "        &nbsp;\n",
    "        <span class=\"\">Create action server</span>\n",
    "    </h1>\n",
    "</div>"
   ]
  },
  {
   "cell_type": "markdown",
   "metadata": {},
   "source": [
    "1. Create a new node that contains an action server named `record_odom`. The server uses an `OdomRecord.action` message that you must also create:"
   ]
  },
  {
   "cell_type": "code",
   "execution_count": null,
   "metadata": {},
   "outputs": [],
   "source": [
    "OdomRecord.action\n",
    "---\n",
    "geometry_msgs/Point32[] list_of_odoms\n",
    "---\n",
    "float32 current_total"
   ]
  },
  {
   "cell_type": "markdown",
   "metadata": {},
   "source": [
    "* The server must start recording the (x,y,theta) odometry of the robot as a Point32, one measure every second. \n",
    "* As feedback, the action server must provide the total amount of meters that the robot has moved so far\n",
    "* When the robot has done a complete lap, it has to finish and return the list of odometries recorded "
   ]
  },
  {
   "cell_type": "markdown",
   "metadata": {},
   "source": [
    "<h1 align=\"center\";> </h1>\n",
    "<div>\n",
    "    <h1 class=\"text-center\">\n",
    "        &nbsp;\n",
    "        <span class=\"\">Test Action Server</span>\n",
    "    </h1>\n",
    "</div>"
   ]
  },
  {
   "cell_type": "markdown",
   "metadata": {},
   "source": [
    "1. Run the action server node\n",
    "2. Use the terminal to launch the `axclient` and test the action server:"
   ]
  },
  {
   "cell_type": "markdown",
   "metadata": {},
   "source": [
    "<span class=\"badge badge-pill badge-primary\">\n",
    "    <i class=\"fa fa-play\"></i>\n",
    "    &nbsp;\n",
    "    Execute in Terminal #2\n",
    "</span>"
   ]
  },
  {
   "cell_type": "code",
   "execution_count": null,
   "metadata": {},
   "outputs": [],
   "source": [
    " rosrun actionlib_tools axclient.py"
   ]
  },
  {
   "cell_type": "markdown",
   "metadata": {},
   "source": [
    "<h1 align=\"center\";> </h1>\n",
    "<div>\n",
    "    <h1 class=\"text-center\">\n",
    "        <span class=\"text-primary\">3.2</span>\n",
    "        &nbsp;\n",
    "        <span class=\"\">Add action call to Section 1 program</span>\n",
    "    </h1>\n",
    "</div>"
   ]
  },
  {
   "cell_type": "markdown",
   "metadata": {},
   "source": [
    "1. Add an action service client to the node from Section 1\n",
    "2. Call the action server before the control loop of that node, so the robot starts recording odometry before it starts following the wall"
   ]
  },
  {
   "cell_type": "markdown",
   "metadata": {},
   "source": [
    "<h1 align=\"center\";> </h1>\n",
    "<div>\n",
    "    <h1 class=\"text-center\">\n",
    "        &nbsp;\n",
    "        <span class=\"\">Test Action Client</span>\n",
    "    </h1>\n",
    "</div>"
   ]
  },
  {
   "cell_type": "markdown",
   "metadata": {},
   "source": [
    "1. Run the action server node\n",
    "2. Launch `main.launch`\n",
    "\n",
    "This should start the robot movement and start recording.\n",
    "\n",
    "* Check the feedback from the action server"
   ]
  },
  {
   "cell_type": "markdown",
   "metadata": {},
   "source": [
    "<h1 align=\"center\";> </h1>\n",
    "<div>\n",
    "    <h1 class=\"text-center\">\n",
    "        <span class=\"text-primary\">3.3</span>\n",
    "        &nbsp;\n",
    "        <span class=\"\">Add action server to main launch file</span>\n",
    "    </h1>\n",
    "</div>"
   ]
  },
  {
   "cell_type": "markdown",
   "metadata": {},
   "source": [
    "1. Add the action server node to `main.launch`\n",
    "\n",
    "This should start the robot movement and odometry recording.\n",
    "\n",
    "**IMPORTANT**: Test everything on the simulation. When it works in the simulation, book a date in the *Real Robot Lab* and make it work there, too. Same as in Section 1 and 2."
   ]
  },
  {
   "cell_type": "markdown",
   "metadata": {},
   "source": [
    "<div>\n",
    "    <h1 class=\"text-center\">\n",
    "        <span class=\"text-primary\">Section 4</span>\n",
    "        &nbsp;\n",
    "        <span class=\"\">Book a date to present your project on YouTube (optional)</span>\n",
    "    </h1>\n",
    "</div>"
   ]
  },
  {
   "cell_type": "markdown",
   "metadata": {},
   "source": [
    "An important part of your learning is to teach others what you have learned.\n",
    "\n",
    "In order to get the most out of your learning, you should deliver a live presentation on your project. \n",
    "\n",
    "If you want to take this brave step, contact us at info@theconstructsim.com requesting a presentation and we will agree on the day and time.\n",
    "\n",
    "**You will have to**:\n",
    "1. Prepare your presentation. You will have to explain your project in 15 minutes: how you solved it and how it works.\n",
    "2. On the agreed upon day, you will need to have a camera and mic ready.\n",
    "3. We will contact you on the day and prepare the whole broadcast. We will handle everything, you only need to be ready to present.\n",
    "\n",
    "\n",
    "The event will be broadcast on Youtube, so anybody around the world can attend and watch your presentation."
   ]
  },
  {
   "cell_type": "markdown",
   "metadata": {},
   "source": [
    "It's important to remark that, although this step is optional, it is mandatory in order to get the certificate of the course. **Without successfully completing the presentation, you won't be able to earn the course certificate**.\n",
    "\n",
    "<img src=\"realrobotlab_notebooks/certificate-template.png\" width=\"600\" />"
   ]
  },
  {
   "cell_type": "markdown",
   "metadata": {},
   "source": [
    "<div>\n",
    "    <h1 class=\"text-center\">\n",
    "        <span class=\"text-primary\">Section 5</span>\n",
    "        &nbsp;\n",
    "        <span class=\"\">Share your project on LinkedIn or social networks</span>\n",
    "    </h1>\n",
    "</div>"
   ]
  },
  {
   "cell_type": "markdown",
   "metadata": {},
   "source": [
    "The rosject that you created with this project is a demonstration of your value as a ROS Developer.\n",
    "\n",
    "You can share your rosject on any website to show the ROS projects you have worked on. This can help future employers hire you.\n",
    "\n",
    "In order to share your rosject:\n",
    "* Go to your list of rosjects\n",
    "* Click on the *Share* button of your rosject to get the share link.\n",
    "\n",
    "<img src=\"realrobotlab_notebooks/rosject.png\" width=\"400\"/>\n",
    "\n",
    "* Then you can publish the link anywhere. Remember to use the *Permanent link*\n",
    "\n",
    "<img src=\"realrobotlab_notebooks/sharelink.png\" width=\"400\"/>"
   ]
  },
  {
   "cell_type": "markdown",
   "metadata": {},
   "source": [
    "<div>\n",
    "    <h1 class=\"text-center\">\n",
    "        <span class=\"text-primary\">Appendix</span>\n",
    "        &nbsp;\n",
    "        <span class=\"\">How to connect to the real robot</span>\n",
    "    </h1>\n",
    "</div>"
   ]
  },
  {
   "cell_type": "markdown",
   "metadata": {},
   "source": [
    "Once you know the basics of the operation with a simulated version, it's time to use the real Turtlebot3 robot.\n",
    "\n",
    "### You can book up to two 25-minute sessions per week\n",
    "\n",
    "To make a booking, follow these simple steps:"
   ]
  },
  {
   "cell_type": "markdown",
   "metadata": {},
   "source": [
    "<div>\n",
    "    <h1 class=\"text-center\">\n",
    "        <span class=\"text-primary\">Step 1</span>\n",
    "        &nbsp;\n",
    "        <span class=\"\">Book a session</span>\n",
    "    </h1>\n",
    "</div>"
   ]
  },
  {
   "cell_type": "markdown",
   "metadata": {},
   "source": [
    "In the main dashboard of The Construct, you can book a session by clicking on this icon:"
   ]
  },
  {
   "cell_type": "markdown",
   "metadata": {},
   "source": [
    "<img src=\"realrobotlab_notebooks/reallab2.png\"/>"
   ]
  },
  {
   "cell_type": "markdown",
   "metadata": {},
   "source": [
    "A booking page will appear, where you can do two things:\n",
    "* Check your bookings"
   ]
  },
  {
   "cell_type": "markdown",
   "metadata": {},
   "source": [
    "<img src=\"realrobotlab_notebooks/bookasession.png\"/>\n"
   ]
  },
  {
   "cell_type": "markdown",
   "metadata": {},
   "source": [
    "* Make a new booking"
   ]
  },
  {
   "cell_type": "markdown",
   "metadata": {},
   "source": [
    "<img src=\"realrobotlab_notebooks/bookings.png\"/>\n"
   ]
  },
  {
   "cell_type": "markdown",
   "metadata": {},
   "source": [
    "You can either click on `Book a robot` on the bottom and then select the Turtlebot, or just click on `Book now` where the image of the turtlebot is and select the date and time for your reservation:"
   ]
  },
  {
   "cell_type": "markdown",
   "metadata": {},
   "source": [
    "<img src=\"realrobotlab_notebooks/reservet3.png\"/>"
   ]
  },
  {
   "cell_type": "markdown",
   "metadata": {},
   "source": [
    "The **dates and times shown are the ones available**. They come in **25-minute blocks**.\n",
    "\n",
    "There is also a limitation on the number of bookings per week a user can make. \n",
    "\n",
    "This depends on your particular license and subscription.\n",
    "\n",
    "Select a time and then confirm:"
   ]
  },
  {
   "cell_type": "markdown",
   "metadata": {},
   "source": [
    "<img src=\"realrobotlab_notebooks/confirm.png\"/>"
   ]
  },
  {
   "cell_type": "markdown",
   "metadata": {},
   "source": [
    "<div>\n",
    "    <h1 class=\"text-center\">\n",
    "        <span class=\"text-primary\">Step 2</span>\n",
    "        &nbsp;\n",
    "        <span class=\"\">Open project rosject</span>\n",
    "    </h1>\n",
    "</div>"
   ]
  },
  {
   "cell_type": "markdown",
   "metadata": {},
   "source": [
    "To have the best experience, you need to launch the rosject with the simulation of Turtlebot3. Chances are that if you are reading this, you have already launched it.\n",
    "\n",
    "When **one hour or less** is remaining until your booking session, a warning icon will be shown at the bottom menu bar. This means that you have less than an hour to get ready for your session. You will also see the remaining time to your session."
   ]
  },
  {
   "cell_type": "markdown",
   "metadata": {},
   "source": [
    "<img src=\"realrobotlab_notebooks/remaining.png\"/>"
   ]
  },
  {
   "cell_type": "markdown",
   "metadata": {},
   "source": [
    "The orange dot will turn into a **red dot** when your booking session has started."
   ]
  },
  {
   "cell_type": "markdown",
   "metadata": {},
   "source": [
    "<div>\n",
    "    <h1 class=\"text-center\">\n",
    "        <span class=\"text-primary\">Step 3</span>\n",
    "        &nbsp;\n",
    "        <span class=\"\">Turn ON robot connection</span>\n",
    "    </h1>\n",
    "</div>"
   ]
  },
  {
   "cell_type": "markdown",
   "metadata": {},
   "source": [
    "Once you are inside the rosject and your real robot session has started, click on the robot icon at the bottom. A popup with a toggle for **turning on the connection** will appear.\n",
    "\n",
    "**WARNING: Nothing will appear unless you have a booking. So if you didn't make a booking in the dashboard, feel free to do so.**\n",
    "\n",
    "Now you just have to click on the toggle to connect the desktop environment to the remote lab. This will start the connection process, which lasts for a few seconds. \n",
    "\n",
    "Once the connection process is finished, the **red dot will change to green** if succesfully connected. Now **any terminal you open will show the topics and services of the real robot**.\n",
    "\n",
    "Move the joystick around to confirm you are connected to the robot:"
   ]
  },
  {
   "cell_type": "markdown",
   "metadata": {},
   "source": [
    "<img src=\"realrobotlab_notebooks/rrl.gif\"/>"
   ]
  },
  {
   "cell_type": "markdown",
   "metadata": {},
   "source": [
    "You should be able to do the following command, getting a list of topics similar to this. The first time you issue a ROS command, it could take an extra 30 seconds to appear:"
   ]
  },
  {
   "cell_type": "markdown",
   "metadata": {},
   "source": [
    "<span class=\"badge badge-pill badge-primary\">\n",
    "    <i class=\"fa fa-play\"></i>\n",
    "    &nbsp;\n",
    "    Execute in Terminal #1\n",
    "</span>"
   ]
  },
  {
   "cell_type": "code",
   "execution_count": null,
   "metadata": {},
   "outputs": [],
   "source": [
    "rostopic list"
   ]
  },
  {
   "cell_type": "code",
   "execution_count": null,
   "metadata": {},
   "outputs": [],
   "source": [
    "/battery_state\n",
    "/cmd_vel\n",
    "/cmd_vel_rc100\n",
    "/diagnostics\n",
    "/firmware_version\n",
    "/imu\n",
    "/joint_states\n",
    "/magnetic_field\n",
    "/motor_power\n",
    "/odom\n",
    "/reset\n",
    "/rosout\n",
    "/rosout_agg\n",
    "/rpms\n",
    "/scan\n",
    "/sensor_state\n",
    "/sound\n",
    "/tf\n",
    "/tf_static\n",
    "/version_info"
   ]
  },
  {
   "cell_type": "markdown",
   "metadata": {},
   "source": [
    "**Note**: Take into account that you **will not be able to push git changes when turned on, because there is no interenet connection**.\n",
    "\n",
    "So, to push any changes in your remote gits in the rosject, you will have to turn off the connection (or wait until your time is up)."
   ]
  },
  {
   "cell_type": "markdown",
   "metadata": {},
   "source": [
    "<span style='background :orange' > Move the robot around: Be careful to **NOT exceed a linear speed of 0.19 and angular of 0.49** because, otherwise, the node will be terminated for security reasons. </span>"
   ]
  },
  {
   "cell_type": "markdown",
   "metadata": {},
   "source": [
    "You are now connected to the robot! So let's try moving the robot around and seeing the lasers and the camera in rviz."
   ]
  },
  {
   "cell_type": "markdown",
   "metadata": {},
   "source": [
    "<span class=\"badge badge-pill badge-primary\">\n",
    "    <i class=\"fa fa-play\"></i>\n",
    "    &nbsp;\n",
    "    Execute in Terminal #1\n",
    "</span>"
   ]
  },
  {
   "cell_type": "code",
   "execution_count": null,
   "metadata": {},
   "outputs": [],
   "source": [
    "rviz"
   ]
  },
  {
   "cell_type": "markdown",
   "metadata": {},
   "source": [
    "You can then add an image and scan elements in the **base_link** frame, having something like this:"
   ]
  },
  {
   "cell_type": "markdown",
   "metadata": {},
   "source": [
    "<img src=\"realrobotlab_notebooks/robox_demo_t3.gif\" width=1200/>"
   ]
  },
  {
   "cell_type": "markdown",
   "metadata": {},
   "source": [
    "## Ready for your programs!\n",
    "\n",
    "If you have reached this point, it means that you have a proper connection with the remote real robot lab. **Now you can launch the programs of your project and see the results on a real robot**."
   ]
  }
 ],
 "metadata": {
  "anaconda-cloud": {},
  "kernelspec": {
   "display_name": "Python 2",
   "language": "python",
   "name": "python2"
  },
  "language_info": {
   "codemirror_mode": {
    "name": "ipython",
    "version": 2
   },
   "file_extension": ".py",
   "mimetype": "text/x-python",
   "name": "python",
   "nbconvert_exporter": "python",
   "pygments_lexer": "ipython2",
   "version": "2.7.16"
  }
 },
 "nbformat": 4,
 "nbformat_minor": 1
}
